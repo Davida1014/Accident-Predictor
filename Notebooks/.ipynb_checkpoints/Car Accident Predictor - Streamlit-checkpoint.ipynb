{
 "cells": [
  {
   "cell_type": "code",
   "execution_count": 3,
   "metadata": {},
   "outputs": [],
   "source": [
    "# Import packages\n",
    "import streamlit as st\n",
    "import pandas as pd\n",
    "import pydeck as pdk"
   ]
  },
  {
   "cell_type": "code",
   "execution_count": 24,
   "metadata": {},
   "outputs": [
    {
     "name": "stdout",
     "output_type": "stream",
     "text": [
      "            Accidents\n",
      "Date                 \n",
      "2012-07-01        140\n",
      "2012-07-02        146\n",
      "2012-07-03        176\n",
      "2012-07-04        104\n",
      "2012-07-05        158\n",
      "...               ...\n",
      "2022-06-26        103\n",
      "2022-06-27        126\n",
      "2022-06-28        126\n",
      "2022-06-29        123\n",
      "2022-06-30        124\n",
      "\n",
      "[3652 rows x 1 columns]\n",
      "            Accidents\n",
      "Date                 \n",
      "2012-07-01        119\n",
      "2012-07-02        108\n",
      "2012-07-03        154\n",
      "2012-07-04        108\n",
      "2012-07-05        142\n",
      "...               ...\n",
      "2022-06-26        113\n",
      "2022-06-27        132\n",
      "2022-06-28        133\n",
      "2022-06-29        131\n",
      "2022-06-30        132\n",
      "\n",
      "[3652 rows x 1 columns]\n"
     ]
    }
   ],
   "source": [
    "# Import saved data\n",
    "bkln = pd.read_csv('Data/data_preds_bkln.csv')\n",
    "qns = pd.read_csv('Data/data_preds_qns.csv')\n",
    "\n",
    "# Clean data\n",
    "# Set date column to datetime object\n",
    "bkln['Date'] = pd.to_datetime(bkln['Unnamed: 0'])\n",
    "bkln.drop(columns='Unnamed: 0', inplace=True)\n",
    "\n",
    "qns['Date'] = pd.to_datetime(qns['Unnamed: 0'])\n",
    "qns.drop(columns='Unnamed: 0', inplace=True)\n",
    "\n",
    "# Set date column as index\n",
    "bkln.set_index('Date', inplace=True)\n",
    "\n",
    "qns.set_index('Date', inplace=True)\n",
    "\n",
    "# Rename accidents column\n",
    "bkln.rename(columns={'0': 'Accidents'}, inplace=True)\n",
    "\n",
    "qns.rename(columns={'0': 'Accidents'}, inplace=True)\n",
    "\n",
    "# Convert accidents to integers\n",
    "bkln['Accidents'] = bkln['Accidents'].astype(int)\n",
    "\n",
    "\n",
    "qns['Accidents'] = qns['Accidents'].astype(int)\n",
    "\n",
    "# Observe data\n",
    "print(bkln)\n",
    "print(qns)"
   ]
  },
  {
   "cell_type": "code",
   "execution_count": null,
   "metadata": {},
   "outputs": [],
   "source": []
  }
 ],
 "metadata": {
  "kernelspec": {
   "display_name": "learn-env",
   "language": "python",
   "name": "learn-env"
  },
  "language_info": {
   "codemirror_mode": {
    "name": "ipython",
    "version": 3
   },
   "file_extension": ".py",
   "mimetype": "text/x-python",
   "name": "python",
   "nbconvert_exporter": "python",
   "pygments_lexer": "ipython3",
   "version": "3.8.3"
  },
  "toc": {
   "base_numbering": 1,
   "nav_menu": {},
   "number_sections": true,
   "sideBar": true,
   "skip_h1_title": false,
   "title_cell": "Table of Contents",
   "title_sidebar": "Contents",
   "toc_cell": false,
   "toc_position": {},
   "toc_section_display": true,
   "toc_window_display": false
  }
 },
 "nbformat": 4,
 "nbformat_minor": 4
}
