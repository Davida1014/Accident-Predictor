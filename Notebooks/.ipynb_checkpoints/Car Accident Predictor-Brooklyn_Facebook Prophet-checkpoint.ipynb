{
 "cells": [
  {
   "cell_type": "code",
   "execution_count": 17,
   "metadata": {},
   "outputs": [],
   "source": [
    "# Import packages\n",
    "import warnings\n",
    "import pandas as pd\n",
    "import matplotlib.pyplot as plt\n",
    "from statsmodels.tsa.stattools import adfuller\n",
    "from statsmodels.graphics.tsaplots import plot_acf\n",
    "from statsmodels.graphics.tsaplots import plot_pacf\n",
    "from statsmodels.tsa.arima_model import ARIMA\n",
    "import statsmodels.api as sm\n",
    "from matplotlib.pylab import rcParams\n",
    "import itertools\n",
    "import numpy as np\n",
    "import tqdm\n",
    "from tqdm._tqdm_notebook import tqdm_notebook\n",
    "from fbprophet import Prophet\n",
    "\n",
    "\n",
    "# Preferred settings\n",
    "warnings.simplefilter(\"ignore\")\n"
   ]
  },
  {
   "cell_type": "code",
   "execution_count": 18,
   "metadata": {},
   "outputs": [
    {
     "ename": "FileNotFoundError",
     "evalue": "[Errno 2] File Data/df_TS.csv does not exist: 'Data/df_TS.csv'",
     "output_type": "error",
     "traceback": [
      "\u001b[0;31m---------------------------------------------------------------------------\u001b[0m",
      "\u001b[0;31mFileNotFoundError\u001b[0m                         Traceback (most recent call last)",
      "\u001b[0;32m<ipython-input-18-c3aef446b7ff>\u001b[0m in \u001b[0;36m<module>\u001b[0;34m\u001b[0m\n\u001b[1;32m      1\u001b[0m \u001b[0;31m# Import saved data\u001b[0m\u001b[0;34m\u001b[0m\u001b[0;34m\u001b[0m\u001b[0;34m\u001b[0m\u001b[0m\n\u001b[0;32m----> 2\u001b[0;31m \u001b[0mdf_TS\u001b[0m \u001b[0;34m=\u001b[0m \u001b[0mpd\u001b[0m\u001b[0;34m.\u001b[0m\u001b[0mread_csv\u001b[0m\u001b[0;34m(\u001b[0m\u001b[0;34m'Data/df_TS.csv'\u001b[0m\u001b[0;34m)\u001b[0m\u001b[0;34m\u001b[0m\u001b[0;34m\u001b[0m\u001b[0m\n\u001b[0m\u001b[1;32m      3\u001b[0m \u001b[0;34m\u001b[0m\u001b[0m\n\u001b[1;32m      4\u001b[0m \u001b[0;31m# Set date column to datetime object\u001b[0m\u001b[0;34m\u001b[0m\u001b[0;34m\u001b[0m\u001b[0;34m\u001b[0m\u001b[0m\n\u001b[1;32m      5\u001b[0m \u001b[0mdf_TS\u001b[0m\u001b[0;34m[\u001b[0m\u001b[0;34m'Date'\u001b[0m\u001b[0;34m]\u001b[0m \u001b[0;34m=\u001b[0m \u001b[0mpd\u001b[0m\u001b[0;34m.\u001b[0m\u001b[0mto_datetime\u001b[0m\u001b[0;34m(\u001b[0m\u001b[0mdf_TS\u001b[0m\u001b[0;34m[\u001b[0m\u001b[0;34m'Date'\u001b[0m\u001b[0;34m]\u001b[0m\u001b[0;34m)\u001b[0m\u001b[0;34m\u001b[0m\u001b[0;34m\u001b[0m\u001b[0m\n",
      "\u001b[0;32m/opt/anaconda3/lib/python3.8/site-packages/pandas/io/parsers.py\u001b[0m in \u001b[0;36mparser_f\u001b[0;34m(filepath_or_buffer, sep, delimiter, header, names, index_col, usecols, squeeze, prefix, mangle_dupe_cols, dtype, engine, converters, true_values, false_values, skipinitialspace, skiprows, skipfooter, nrows, na_values, keep_default_na, na_filter, verbose, skip_blank_lines, parse_dates, infer_datetime_format, keep_date_col, date_parser, dayfirst, cache_dates, iterator, chunksize, compression, thousands, decimal, lineterminator, quotechar, quoting, doublequote, escapechar, comment, encoding, dialect, error_bad_lines, warn_bad_lines, delim_whitespace, low_memory, memory_map, float_precision)\u001b[0m\n\u001b[1;32m    674\u001b[0m         )\n\u001b[1;32m    675\u001b[0m \u001b[0;34m\u001b[0m\u001b[0m\n\u001b[0;32m--> 676\u001b[0;31m         \u001b[0;32mreturn\u001b[0m \u001b[0m_read\u001b[0m\u001b[0;34m(\u001b[0m\u001b[0mfilepath_or_buffer\u001b[0m\u001b[0;34m,\u001b[0m \u001b[0mkwds\u001b[0m\u001b[0;34m)\u001b[0m\u001b[0;34m\u001b[0m\u001b[0;34m\u001b[0m\u001b[0m\n\u001b[0m\u001b[1;32m    677\u001b[0m \u001b[0;34m\u001b[0m\u001b[0m\n\u001b[1;32m    678\u001b[0m     \u001b[0mparser_f\u001b[0m\u001b[0;34m.\u001b[0m\u001b[0m__name__\u001b[0m \u001b[0;34m=\u001b[0m \u001b[0mname\u001b[0m\u001b[0;34m\u001b[0m\u001b[0;34m\u001b[0m\u001b[0m\n",
      "\u001b[0;32m/opt/anaconda3/lib/python3.8/site-packages/pandas/io/parsers.py\u001b[0m in \u001b[0;36m_read\u001b[0;34m(filepath_or_buffer, kwds)\u001b[0m\n\u001b[1;32m    446\u001b[0m \u001b[0;34m\u001b[0m\u001b[0m\n\u001b[1;32m    447\u001b[0m     \u001b[0;31m# Create the parser.\u001b[0m\u001b[0;34m\u001b[0m\u001b[0;34m\u001b[0m\u001b[0;34m\u001b[0m\u001b[0m\n\u001b[0;32m--> 448\u001b[0;31m     \u001b[0mparser\u001b[0m \u001b[0;34m=\u001b[0m \u001b[0mTextFileReader\u001b[0m\u001b[0;34m(\u001b[0m\u001b[0mfp_or_buf\u001b[0m\u001b[0;34m,\u001b[0m \u001b[0;34m**\u001b[0m\u001b[0mkwds\u001b[0m\u001b[0;34m)\u001b[0m\u001b[0;34m\u001b[0m\u001b[0;34m\u001b[0m\u001b[0m\n\u001b[0m\u001b[1;32m    449\u001b[0m \u001b[0;34m\u001b[0m\u001b[0m\n\u001b[1;32m    450\u001b[0m     \u001b[0;32mif\u001b[0m \u001b[0mchunksize\u001b[0m \u001b[0;32mor\u001b[0m \u001b[0miterator\u001b[0m\u001b[0;34m:\u001b[0m\u001b[0;34m\u001b[0m\u001b[0;34m\u001b[0m\u001b[0m\n",
      "\u001b[0;32m/opt/anaconda3/lib/python3.8/site-packages/pandas/io/parsers.py\u001b[0m in \u001b[0;36m__init__\u001b[0;34m(self, f, engine, **kwds)\u001b[0m\n\u001b[1;32m    878\u001b[0m             \u001b[0mself\u001b[0m\u001b[0;34m.\u001b[0m\u001b[0moptions\u001b[0m\u001b[0;34m[\u001b[0m\u001b[0;34m\"has_index_names\"\u001b[0m\u001b[0;34m]\u001b[0m \u001b[0;34m=\u001b[0m \u001b[0mkwds\u001b[0m\u001b[0;34m[\u001b[0m\u001b[0;34m\"has_index_names\"\u001b[0m\u001b[0;34m]\u001b[0m\u001b[0;34m\u001b[0m\u001b[0;34m\u001b[0m\u001b[0m\n\u001b[1;32m    879\u001b[0m \u001b[0;34m\u001b[0m\u001b[0m\n\u001b[0;32m--> 880\u001b[0;31m         \u001b[0mself\u001b[0m\u001b[0;34m.\u001b[0m\u001b[0m_make_engine\u001b[0m\u001b[0;34m(\u001b[0m\u001b[0mself\u001b[0m\u001b[0;34m.\u001b[0m\u001b[0mengine\u001b[0m\u001b[0;34m)\u001b[0m\u001b[0;34m\u001b[0m\u001b[0;34m\u001b[0m\u001b[0m\n\u001b[0m\u001b[1;32m    881\u001b[0m \u001b[0;34m\u001b[0m\u001b[0m\n\u001b[1;32m    882\u001b[0m     \u001b[0;32mdef\u001b[0m \u001b[0mclose\u001b[0m\u001b[0;34m(\u001b[0m\u001b[0mself\u001b[0m\u001b[0;34m)\u001b[0m\u001b[0;34m:\u001b[0m\u001b[0;34m\u001b[0m\u001b[0;34m\u001b[0m\u001b[0m\n",
      "\u001b[0;32m/opt/anaconda3/lib/python3.8/site-packages/pandas/io/parsers.py\u001b[0m in \u001b[0;36m_make_engine\u001b[0;34m(self, engine)\u001b[0m\n\u001b[1;32m   1112\u001b[0m     \u001b[0;32mdef\u001b[0m \u001b[0m_make_engine\u001b[0m\u001b[0;34m(\u001b[0m\u001b[0mself\u001b[0m\u001b[0;34m,\u001b[0m \u001b[0mengine\u001b[0m\u001b[0;34m=\u001b[0m\u001b[0;34m\"c\"\u001b[0m\u001b[0;34m)\u001b[0m\u001b[0;34m:\u001b[0m\u001b[0;34m\u001b[0m\u001b[0;34m\u001b[0m\u001b[0m\n\u001b[1;32m   1113\u001b[0m         \u001b[0;32mif\u001b[0m \u001b[0mengine\u001b[0m \u001b[0;34m==\u001b[0m \u001b[0;34m\"c\"\u001b[0m\u001b[0;34m:\u001b[0m\u001b[0;34m\u001b[0m\u001b[0;34m\u001b[0m\u001b[0m\n\u001b[0;32m-> 1114\u001b[0;31m             \u001b[0mself\u001b[0m\u001b[0;34m.\u001b[0m\u001b[0m_engine\u001b[0m \u001b[0;34m=\u001b[0m \u001b[0mCParserWrapper\u001b[0m\u001b[0;34m(\u001b[0m\u001b[0mself\u001b[0m\u001b[0;34m.\u001b[0m\u001b[0mf\u001b[0m\u001b[0;34m,\u001b[0m \u001b[0;34m**\u001b[0m\u001b[0mself\u001b[0m\u001b[0;34m.\u001b[0m\u001b[0moptions\u001b[0m\u001b[0;34m)\u001b[0m\u001b[0;34m\u001b[0m\u001b[0;34m\u001b[0m\u001b[0m\n\u001b[0m\u001b[1;32m   1115\u001b[0m         \u001b[0;32melse\u001b[0m\u001b[0;34m:\u001b[0m\u001b[0;34m\u001b[0m\u001b[0;34m\u001b[0m\u001b[0m\n\u001b[1;32m   1116\u001b[0m             \u001b[0;32mif\u001b[0m \u001b[0mengine\u001b[0m \u001b[0;34m==\u001b[0m \u001b[0;34m\"python\"\u001b[0m\u001b[0;34m:\u001b[0m\u001b[0;34m\u001b[0m\u001b[0;34m\u001b[0m\u001b[0m\n",
      "\u001b[0;32m/opt/anaconda3/lib/python3.8/site-packages/pandas/io/parsers.py\u001b[0m in \u001b[0;36m__init__\u001b[0;34m(self, src, **kwds)\u001b[0m\n\u001b[1;32m   1889\u001b[0m         \u001b[0mkwds\u001b[0m\u001b[0;34m[\u001b[0m\u001b[0;34m\"usecols\"\u001b[0m\u001b[0;34m]\u001b[0m \u001b[0;34m=\u001b[0m \u001b[0mself\u001b[0m\u001b[0;34m.\u001b[0m\u001b[0musecols\u001b[0m\u001b[0;34m\u001b[0m\u001b[0;34m\u001b[0m\u001b[0m\n\u001b[1;32m   1890\u001b[0m \u001b[0;34m\u001b[0m\u001b[0m\n\u001b[0;32m-> 1891\u001b[0;31m         \u001b[0mself\u001b[0m\u001b[0;34m.\u001b[0m\u001b[0m_reader\u001b[0m \u001b[0;34m=\u001b[0m \u001b[0mparsers\u001b[0m\u001b[0;34m.\u001b[0m\u001b[0mTextReader\u001b[0m\u001b[0;34m(\u001b[0m\u001b[0msrc\u001b[0m\u001b[0;34m,\u001b[0m \u001b[0;34m**\u001b[0m\u001b[0mkwds\u001b[0m\u001b[0;34m)\u001b[0m\u001b[0;34m\u001b[0m\u001b[0;34m\u001b[0m\u001b[0m\n\u001b[0m\u001b[1;32m   1892\u001b[0m         \u001b[0mself\u001b[0m\u001b[0;34m.\u001b[0m\u001b[0munnamed_cols\u001b[0m \u001b[0;34m=\u001b[0m \u001b[0mself\u001b[0m\u001b[0;34m.\u001b[0m\u001b[0m_reader\u001b[0m\u001b[0;34m.\u001b[0m\u001b[0munnamed_cols\u001b[0m\u001b[0;34m\u001b[0m\u001b[0;34m\u001b[0m\u001b[0m\n\u001b[1;32m   1893\u001b[0m \u001b[0;34m\u001b[0m\u001b[0m\n",
      "\u001b[0;32mpandas/_libs/parsers.pyx\u001b[0m in \u001b[0;36mpandas._libs.parsers.TextReader.__cinit__\u001b[0;34m()\u001b[0m\n",
      "\u001b[0;32mpandas/_libs/parsers.pyx\u001b[0m in \u001b[0;36mpandas._libs.parsers.TextReader._setup_parser_source\u001b[0;34m()\u001b[0m\n",
      "\u001b[0;31mFileNotFoundError\u001b[0m: [Errno 2] File Data/df_TS.csv does not exist: 'Data/df_TS.csv'"
     ]
    }
   ],
   "source": [
    "# Import saved data\n",
    "df_TS = pd.read_csv('Data/df_TS.csv')\n",
    "\n",
    "# Set date column to datetime object\n",
    "df_TS['Date'] = pd.to_datetime(df_TS['Date'])\n",
    "\n",
    "# Set date column as index\n",
    "df_TS.set_index('Date', inplace=True)"
   ]
  },
  {
   "cell_type": "markdown",
   "metadata": {},
   "source": [
    "# Prepare Data"
   ]
  },
  {
   "cell_type": "code",
   "execution_count": 19,
   "metadata": {},
   "outputs": [],
   "source": [
    "# Only use pre-COVID data for time series modeling\n",
    "df_TS_preCOV = df_TS.loc[:'2020-3-13']\n"
   ]
  },
  {
   "cell_type": "code",
   "execution_count": 20,
   "metadata": {},
   "outputs": [],
   "source": [
    "# Create df of only Brooklyn data, remove all columns other than accident counts \n",
    "df_prophet = df_TS_preCOV.drop(columns = ['Injuries', 'Deaths','Accidents_Bx', 'Accidents_Man', 'Accidents_Qns', 'Accidents_SI',\n",
    "                               'Accidents_Total','Season','Day of Week', 'Weekend','Holiday'])\n",
    "\n",
    "# Rename columns to [ds,y] per fb prophet specifications\n",
    "df_prophet['ds'] = df_prophet.index\n",
    "df_prophet.rename(columns={'Accidents_Bkln': 'y'},inplace=True)\n"
   ]
  },
  {
   "cell_type": "code",
   "execution_count": 21,
   "metadata": {},
   "outputs": [
    {
     "data": {
      "text/html": [
       "<div>\n",
       "<style scoped>\n",
       "    .dataframe tbody tr th:only-of-type {\n",
       "        vertical-align: middle;\n",
       "    }\n",
       "\n",
       "    .dataframe tbody tr th {\n",
       "        vertical-align: top;\n",
       "    }\n",
       "\n",
       "    .dataframe thead th {\n",
       "        text-align: right;\n",
       "    }\n",
       "</style>\n",
       "<table border=\"1\" class=\"dataframe\">\n",
       "  <thead>\n",
       "    <tr style=\"text-align: right;\">\n",
       "      <th></th>\n",
       "      <th>y</th>\n",
       "      <th>ds</th>\n",
       "    </tr>\n",
       "    <tr>\n",
       "      <th>Date</th>\n",
       "      <th></th>\n",
       "      <th></th>\n",
       "    </tr>\n",
       "  </thead>\n",
       "  <tbody>\n",
       "    <tr>\n",
       "      <th>2012-07-01</th>\n",
       "      <td>140.0</td>\n",
       "      <td>2012-07-01</td>\n",
       "    </tr>\n",
       "    <tr>\n",
       "      <th>2012-07-02</th>\n",
       "      <td>146.0</td>\n",
       "      <td>2012-07-02</td>\n",
       "    </tr>\n",
       "    <tr>\n",
       "      <th>2012-07-03</th>\n",
       "      <td>176.0</td>\n",
       "      <td>2012-07-03</td>\n",
       "    </tr>\n",
       "    <tr>\n",
       "      <th>2012-07-04</th>\n",
       "      <td>104.0</td>\n",
       "      <td>2012-07-04</td>\n",
       "    </tr>\n",
       "    <tr>\n",
       "      <th>2012-07-05</th>\n",
       "      <td>158.0</td>\n",
       "      <td>2012-07-05</td>\n",
       "    </tr>\n",
       "  </tbody>\n",
       "</table>\n",
       "</div>"
      ],
      "text/plain": [
       "                y         ds\n",
       "Date                        \n",
       "2012-07-01  140.0 2012-07-01\n",
       "2012-07-02  146.0 2012-07-02\n",
       "2012-07-03  176.0 2012-07-03\n",
       "2012-07-04  104.0 2012-07-04\n",
       "2012-07-05  158.0 2012-07-05"
      ]
     },
     "execution_count": 21,
     "metadata": {},
     "output_type": "execute_result"
    }
   ],
   "source": [
    "df_prophet.head()"
   ]
  },
  {
   "cell_type": "code",
   "execution_count": 22,
   "metadata": {},
   "outputs": [
    {
     "data": {
      "image/png": "[encoded data removed]",
      "text/plain": [
       "<Figure size 432x288 with 1 Axes>"
      ]
     },
     "metadata": {
      "needs_background": "light"
     },
     "output_type": "display_data"
    },
    {
     "data": {
      "text/plain": [
       "Test Statistic                   -3.239439\n",
       "p-value                           0.017812\n",
       "#Lags Used                       27.000000\n",
       "Number of Observations Used    2783.000000\n",
       "dtype: float64"
      ]
     },
     "execution_count": 22,
     "metadata": {},
     "output_type": "execute_result"
    }
   ],
   "source": [
    "# Visualize data, including 30-day rolling mean and standard deviation\n",
    "\n",
    "roll_mean = df_prophet['y'].rolling(window=30, center=False).mean()\n",
    "roll_std = df_prophet['y'].rolling(window=30, center=False).std()\n",
    "\n",
    "plt.plot(df_prophet['y'],color='mediumseagreen', label='Original')\n",
    "plt.plot(roll_mean, color='mediumblue', label='Rolling Mean')\n",
    "plt.plot(roll_std, color='orangered', label = 'Rolling Std')\n",
    "plt.legend(loc='best')\n",
    "plt.title('Rolling Mean & Standard Deviation')\n",
    "plt.xlabel('Year')\n",
    "plt.ylabel('Accidents')\n",
    "plt.show(block=False)\n",
    "\n",
    "# Dickey-Fuller test\n",
    "test = adfuller(df_prophet['y'][1:-1])\n",
    "dfoutput = pd.Series(test[0:4], index=['Test Statistic','p-value','#Lags Used','Number of Observations Used'])\n",
    "dfoutput"
   ]
  },
  {
   "cell_type": "markdown",
   "metadata": {},
   "source": [
    "Based on the above visualization and Dickey-Fuller p-value, we see that this data is stationary. We will therefore not perform differencing, a log transformation, or any other transformation on the data before fitting a model."
   ]
  },
  {
   "cell_type": "markdown",
   "metadata": {},
   "source": [
    "# Facebook Prophet Modeling"
   ]
  },
  {
   "cell_type": "markdown",
   "metadata": {},
   "source": [
    "## Train-Test Split"
   ]
  },
  {
   "cell_type": "code",
   "execution_count": 32,
   "metadata": {},
   "outputs": [],
   "source": [
    "# Train-test split\n",
    "# 2019-06-06 will be the split point for our train and test sets, which is a 90%/10% split\n",
    "\n",
    "X = df_prophet.index\n",
    "y = df_prophet['y']\n",
    "\n",
    "train = df_prophet.loc[:'2019-06-06']\n",
    "test = df_prophet.loc['2019-06-07':]\n",
    "\n",
    "X_train, X_test = train.index , test.index\n",
    "y_train, y_test = train['y'] , test['y']"
   ]
  },
  {
   "cell_type": "markdown",
   "metadata": {},
   "source": [
    "## Fit Model and Generate Predictions"
   ]
  },
  {
   "cell_type": "code",
   "execution_count": 33,
   "metadata": {},
   "outputs": [
    {
     "name": "stderr",
     "output_type": "stream",
     "text": [
      "INFO:fbprophet:Disabling daily seasonality. Run prophet with daily_seasonality=True to override this.\n"
     ]
    },
    {
     "data": {
      "text/plain": [
       "<fbprophet.forecaster.Prophet at 0x7f86630b3ca0>"
      ]
     },
     "execution_count": 33,
     "metadata": {},
     "output_type": "execute_result"
    }
   ],
   "source": [
    "# Fit model to data\n",
    "model = Prophet(interval_width=0.95)\n",
    "model.fit(train)"
   ]
  },
  {
   "cell_type": "code",
   "execution_count": 34,
   "metadata": {},
   "outputs": [
    {
     "data": {
      "text/html": [
       "<div>\n",
       "<style scoped>\n",
       "    .dataframe tbody tr th:only-of-type {\n",
       "        vertical-align: middle;\n",
       "    }\n",
       "\n",
       "    .dataframe tbody tr th {\n",
       "        vertical-align: top;\n",
       "    }\n",
       "\n",
       "    .dataframe thead th {\n",
       "        text-align: right;\n",
       "    }\n",
       "</style>\n",
       "<table border=\"1\" class=\"dataframe\">\n",
       "  <thead>\n",
       "    <tr style=\"text-align: right;\">\n",
       "      <th></th>\n",
       "      <th>ds</th>\n",
       "      <th>trend</th>\n",
       "      <th>yhat_lower</th>\n",
       "      <th>yhat_upper</th>\n",
       "      <th>trend_lower</th>\n",
       "      <th>trend_upper</th>\n",
       "      <th>additive_terms</th>\n",
       "      <th>additive_terms_lower</th>\n",
       "      <th>additive_terms_upper</th>\n",
       "      <th>weekly</th>\n",
       "      <th>weekly_lower</th>\n",
       "      <th>weekly_upper</th>\n",
       "      <th>yearly</th>\n",
       "      <th>yearly_lower</th>\n",
       "      <th>yearly_upper</th>\n",
       "      <th>multiplicative_terms</th>\n",
       "      <th>multiplicative_terms_lower</th>\n",
       "      <th>multiplicative_terms_upper</th>\n",
       "      <th>yhat</th>\n",
       "    </tr>\n",
       "  </thead>\n",
       "  <tbody>\n",
       "    <tr>\n",
       "      <th>0</th>\n",
       "      <td>2012-07-01</td>\n",
       "      <td>133.315767</td>\n",
       "      <td>71.378916</td>\n",
       "      <td>156.867751</td>\n",
       "      <td>133.315767</td>\n",
       "      <td>133.315767</td>\n",
       "      <td>-18.295514</td>\n",
       "      <td>-18.295514</td>\n",
       "      <td>-18.295514</td>\n",
       "      <td>-25.736374</td>\n",
       "      <td>-25.736374</td>\n",
       "      <td>-25.736374</td>\n",
       "      <td>7.440860</td>\n",
       "      <td>7.440860</td>\n",
       "      <td>7.440860</td>\n",
       "      <td>0.0</td>\n",
       "      <td>0.0</td>\n",
       "      <td>0.0</td>\n",
       "      <td>115.020254</td>\n",
       "    </tr>\n",
       "    <tr>\n",
       "      <th>1</th>\n",
       "      <td>2012-07-02</td>\n",
       "      <td>133.326082</td>\n",
       "      <td>98.040625</td>\n",
       "      <td>191.622232</td>\n",
       "      <td>133.326082</td>\n",
       "      <td>133.326082</td>\n",
       "      <td>12.739038</td>\n",
       "      <td>12.739038</td>\n",
       "      <td>12.739038</td>\n",
       "      <td>6.688528</td>\n",
       "      <td>6.688528</td>\n",
       "      <td>6.688528</td>\n",
       "      <td>6.050510</td>\n",
       "      <td>6.050510</td>\n",
       "      <td>6.050510</td>\n",
       "      <td>0.0</td>\n",
       "      <td>0.0</td>\n",
       "      <td>0.0</td>\n",
       "      <td>146.065120</td>\n",
       "    </tr>\n",
       "    <tr>\n",
       "      <th>2</th>\n",
       "      <td>2012-07-03</td>\n",
       "      <td>133.336396</td>\n",
       "      <td>103.801344</td>\n",
       "      <td>187.795602</td>\n",
       "      <td>133.336396</td>\n",
       "      <td>133.336396</td>\n",
       "      <td>12.726168</td>\n",
       "      <td>12.726168</td>\n",
       "      <td>12.726168</td>\n",
       "      <td>8.004963</td>\n",
       "      <td>8.004963</td>\n",
       "      <td>8.004963</td>\n",
       "      <td>4.721205</td>\n",
       "      <td>4.721205</td>\n",
       "      <td>4.721205</td>\n",
       "      <td>0.0</td>\n",
       "      <td>0.0</td>\n",
       "      <td>0.0</td>\n",
       "      <td>146.062564</td>\n",
       "    </tr>\n",
       "    <tr>\n",
       "      <th>3</th>\n",
       "      <td>2012-07-04</td>\n",
       "      <td>133.346711</td>\n",
       "      <td>97.977372</td>\n",
       "      <td>185.296871</td>\n",
       "      <td>133.346711</td>\n",
       "      <td>133.346711</td>\n",
       "      <td>8.122483</td>\n",
       "      <td>8.122483</td>\n",
       "      <td>8.122483</td>\n",
       "      <td>4.646392</td>\n",
       "      <td>4.646392</td>\n",
       "      <td>4.646392</td>\n",
       "      <td>3.476090</td>\n",
       "      <td>3.476090</td>\n",
       "      <td>3.476090</td>\n",
       "      <td>0.0</td>\n",
       "      <td>0.0</td>\n",
       "      <td>0.0</td>\n",
       "      <td>141.469194</td>\n",
       "    </tr>\n",
       "    <tr>\n",
       "      <th>4</th>\n",
       "      <td>2012-07-05</td>\n",
       "      <td>133.357026</td>\n",
       "      <td>101.770041</td>\n",
       "      <td>186.484827</td>\n",
       "      <td>133.357026</td>\n",
       "      <td>133.357026</td>\n",
       "      <td>10.586798</td>\n",
       "      <td>10.586798</td>\n",
       "      <td>10.586798</td>\n",
       "      <td>8.250894</td>\n",
       "      <td>8.250894</td>\n",
       "      <td>8.250894</td>\n",
       "      <td>2.335904</td>\n",
       "      <td>2.335904</td>\n",
       "      <td>2.335904</td>\n",
       "      <td>0.0</td>\n",
       "      <td>0.0</td>\n",
       "      <td>0.0</td>\n",
       "      <td>143.943823</td>\n",
       "    </tr>\n",
       "  </tbody>\n",
       "</table>\n",
       "</div>"
      ],
      "text/plain": [
       "          ds       trend  yhat_lower  yhat_upper  trend_lower  trend_upper  \\\n",
       "0 2012-07-01  133.315767   71.378916  156.867751   133.315767   133.315767   \n",
       "1 2012-07-02  133.326082   98.040625  191.622232   133.326082   133.326082   \n",
       "2 2012-07-03  133.336396  103.801344  187.795602   133.336396   133.336396   \n",
       "3 2012-07-04  133.346711   97.977372  185.296871   133.346711   133.346711   \n",
       "4 2012-07-05  133.357026  101.770041  186.484827   133.357026   133.357026   \n",
       "\n",
       "   additive_terms  additive_terms_lower  additive_terms_upper     weekly  \\\n",
       "0      -18.295514            -18.295514            -18.295514 -25.736374   \n",
       "1       12.739038             12.739038             12.739038   6.688528   \n",
       "2       12.726168             12.726168             12.726168   8.004963   \n",
       "3        8.122483              8.122483              8.122483   4.646392   \n",
       "4       10.586798             10.586798             10.586798   8.250894   \n",
       "\n",
       "   weekly_lower  weekly_upper    yearly  yearly_lower  yearly_upper  \\\n",
       "0    -25.736374    -25.736374  7.440860      7.440860      7.440860   \n",
       "1      6.688528      6.688528  6.050510      6.050510      6.050510   \n",
       "2      8.004963      8.004963  4.721205      4.721205      4.721205   \n",
       "3      4.646392      4.646392  3.476090      3.476090      3.476090   \n",
       "4      8.250894      8.250894  2.335904      2.335904      2.335904   \n",
       "\n",
       "   multiplicative_terms  multiplicative_terms_lower  \\\n",
       "0                   0.0                         0.0   \n",
       "1                   0.0                         0.0   \n",
       "2                   0.0                         0.0   \n",
       "3                   0.0                         0.0   \n",
       "4                   0.0                         0.0   \n",
       "\n",
       "   multiplicative_terms_upper        yhat  \n",
       "0                         0.0  115.020254  \n",
       "1                         0.0  146.065120  \n",
       "2                         0.0  146.062564  \n",
       "3                         0.0  141.469194  \n",
       "4                         0.0  143.943823  "
      ]
     },
     "execution_count": 34,
     "metadata": {},
     "output_type": "execute_result"
    }
   ],
   "source": [
    "# Make predictions 940 days into the future--ie until 12/31/21\n",
    "# Create future dates\n",
    "future_dates = model.make_future_dataframe(periods=940, freq='D')\n",
    "\n",
    "# Generate predictions\n",
    "forecast = model.predict(future_dates)\n",
    "forecast.head()"
   ]
  },
  {
   "cell_type": "markdown",
   "metadata": {},
   "source": [
    "## Visualize Model"
   ]
  },
  {
   "cell_type": "code",
   "execution_count": 35,
   "metadata": {},
   "outputs": [
    {
     "data": {
      "image/png": "[encoded data removed]",
      "text/plain": [
       "<Figure size 720x432 with 1 Axes>"
      ]
     },
     "metadata": {},
     "output_type": "display_data"
    }
   ],
   "source": [
    "# Subset useful columns from forecast\n",
    "forecast = forecast[['ds', 'yhat', 'yhat_lower', 'yhat_upper']]\n",
    "\n",
    "# Plot forecast\n",
    "model.plot(forecast,uncertainty=True)\n",
    "plt.show()"
   ]
  },
  {
   "cell_type": "markdown",
   "metadata": {},
   "source": [
    "## Assess Model"
   ]
  },
  {
   "cell_type": "code",
   "execution_count": 51,
   "metadata": {},
   "outputs": [
    {
     "name": "stdout",
     "output_type": "stream",
     "text": [
      "FB Propher RMSE:  24.44112937646152\n",
      "ARIMA RMSE:  29.358338851353853\n"
     ]
    }
   ],
   "source": [
    "# Assess model using RMSE to compare to our working ARIMA model\n",
    "# Create RMSE function\n",
    "def RMSE(pred):\n",
    "    return np.sqrt(((pred-y_test)**2).mean())\n",
    "\n",
    "# Define test predictions\n",
    "test_preds = forecast.set_index('ds').loc['2019-06-07':'2020-03-13']\n",
    "\n",
    "# Define fb prophet RMSE\n",
    "fb_RMSE = RMSE(test_preds['yhat'])\n",
    "\n",
    "# Compare to ARIMA RMSE to determine the better model\n",
    "print('FB Propher RMSE: ', fb_RMSE)\n",
    "print('ARIMA RMSE: ', 29.358338851353853)"
   ]
  },
  {
   "cell_type": "markdown",
   "metadata": {},
   "source": [
    "Based on the above RMSEs, we see that our FB Prophet model performs 17% better than our ARIMA model. There is no need to adjust RMSE for range since these are based on the same test data."
   ]
  },
  {
   "cell_type": "markdown",
   "metadata": {},
   "source": [
    "## Adjust Predictions to Account for COVID"
   ]
  },
  {
   "cell_type": "markdown",
   "metadata": {},
   "source": [
    "The above represents accident frequency predictions assuming the COVID-19 pandemic had not occured. Now we will adjust our predictions in the same way we did for our ARIMA model."
   ]
  },
  {
   "cell_type": "code",
   "execution_count": 60,
   "metadata": {},
   "outputs": [
    {
     "data": {
      "text/plain": [
       "<matplotlib.axes._subplots.AxesSubplot at 0x7f86615bd760>"
      ]
     },
     "execution_count": 60,
     "metadata": {},
     "output_type": "execute_result"
    },
    {
     "data": {
      "image/png": "[encoded data removed]",
      "text/plain": [
       "<Figure size 1080x576 with 1 Axes>"
      ]
     },
     "metadata": {
      "needs_background": "light"
     },
     "output_type": "display_data"
    }
   ],
   "source": [
    "fix,ax = plt.subplots(figsize=(15,8))\n",
    "\n",
    "# Plot known data\n",
    "df_bkln_total = df_TS.drop(columns = ['Injuries', 'Deaths','Accidents_Bx', 'Accidents_Man', 'Accidents_Qns', 'Accidents_SI',\n",
    "                               'Accidents_Total'])\n",
    "ax = ax = df_bkln_total['Accidents_Bkln']['2019-07-01':].plot(label='Observed', color='sandybrown')\n",
    "\n",
    "# Begin model-based predictions on 7/1/21, diminish by 25%.\n",
    "adj_model_preds = forecast.set_index('ds').loc['2021-07-01':'2021-12-31']['yhat'] * 0.75\n",
    "adj_model_preds.plot(ax=ax, label='Forecast', color='mediumseagreen')\n"
   ]
  },
  {
   "cell_type": "markdown",
   "metadata": {},
   "source": [
    "# ARIMA Models"
   ]
  },
  {
   "cell_type": "markdown",
   "metadata": {},
   "source": [
    "## Baseline Model: ARIMA with no Exogenous Variables"
   ]
  },
  {
   "cell_type": "markdown",
   "metadata": {},
   "source": [
    "**ACF, PACF**"
   ]
  },
  {
   "cell_type": "code",
   "execution_count": null,
   "metadata": {},
   "outputs": [],
   "source": [
    "# ACF\n",
    "plot_acf(df_bkln['Accidents_Bkln'], alpha=.05);\n",
    "\n",
    "# PACF\n",
    "plot_pacf(df_bkln['Accidents_Bkln'], alpha=.05, lags=20);"
   ]
  },
  {
   "cell_type": "markdown",
   "metadata": {},
   "source": [
    "Based on the above ACF and PACF, when instantiating an ARIMA model, we would expect a relatively large number of MA terms due to the larger number of significant ACF points and a relatively small number of AR terms due to the small number of significant PACF points."
   ]
  },
  {
   "cell_type": "markdown",
   "metadata": {},
   "source": [
    "**Train-Test Split**"
   ]
  },
  {
   "cell_type": "code",
   "execution_count": null,
   "metadata": {},
   "outputs": [],
   "source": [
    "# Determine split point for 90%/10% train-test split\n",
    "split_point = int(len(df_bkln) * 0.9)\n",
    "df_bkln.iloc[split_point]"
   ]
  },
  {
   "cell_type": "code",
   "execution_count": null,
   "metadata": {},
   "outputs": [],
   "source": [
    "# Train-test split\n",
    "# Based on the above, 2019-06-06 will be the split point for our train and test sets\n",
    "\n",
    "X = df_bkln.index\n",
    "y = df_bkln['Accidents_Bkln']\n",
    "\n",
    "train = df_bkln.loc[:'2019-06-06']\n",
    "test = df_bkln.loc['2019-06-06':]\n",
    "\n",
    "X_train, X_test = train.index , test.index\n",
    "y_train, y_test = train['Accidents_Bkln'] , test['Accidents_Bkln']"
   ]
  },
  {
   "cell_type": "markdown",
   "metadata": {},
   "source": [
    "**Grid Search**"
   ]
  },
  {
   "cell_type": "code",
   "execution_count": null,
   "metadata": {},
   "outputs": [],
   "source": [
    "# Determine best parameters for ARIMA model\n",
    "\n",
    "# Define the p, d, and q parameters to take any value between 0 and 4\n",
    "p = d = q = range(0,4)\n",
    "\n",
    "# Generate all different combinations of p, d, and q triplets\n",
    "pdq = list(itertools.product(p, d, q))\n",
    "\n",
    "# Run a grid with pdq parameters calculated to see corresponding AIC scores\n",
    "ans_ARIMA = []\n",
    "for comb in pdq:\n",
    "    try:\n",
    "        mod = ARIMA(y_train, order=comb)\n",
    "        output = mod.fit()\n",
    "        ans_ARIMA.append([comb, output.aic])\n",
    "        print('ARIMA {} : AIC Calculated ={}'.format(comb,output.aic))\n",
    "    except:\n",
    "        continue"
   ]
  },
  {
   "cell_type": "code",
   "execution_count": null,
   "metadata": {},
   "outputs": [],
   "source": [
    "# Find parameters with minimal AIC value\n",
    "df_AIC = pd.DataFrame(ans_ARIMA, columns=['pdq', 'aic'])\n",
    "df_AIC.sort_values(by='aic', ascending=True, inplace=True)\n",
    "df_AIC[:10]"
   ]
  },
  {
   "cell_type": "markdown",
   "metadata": {},
   "source": [
    "**Narrowing Down Parameters**"
   ]
  },
  {
   "cell_type": "markdown",
   "metadata": {},
   "source": [
    "Observe lowest 10 AIC score parameter values to determine best model. Make sure p values are significant, and observe RMSEs to determind best overall model."
   ]
  },
  {
   "cell_type": "code",
   "execution_count": null,
   "metadata": {},
   "outputs": [],
   "source": [
    "for pdq in df_AIC['pdq'][:10]:\n",
    "    mod = ARIMA(y_train[:-1], order=pdq)\n",
    "    mod_fit = mod.fit()\n",
    "    print(mod_fit.summary())\n"
   ]
  },
  {
   "cell_type": "markdown",
   "metadata": {},
   "source": [
    "From the above, we see that none of these parameters have significant p-values. We will now look at the next 10 lowest AIC scores in search of our best ARIMA model."
   ]
  },
  {
   "cell_type": "code",
   "execution_count": null,
   "metadata": {},
   "outputs": [],
   "source": [
    "for pdq in df_AIC['pdq'][10:20]:\n",
    "    mod = ARIMA(y_train[:-1], order=pdq)\n",
    "    mod_fit = mod.fit()\n",
    "    print(mod_fit.summary())"
   ]
  },
  {
   "cell_type": "markdown",
   "metadata": {},
   "source": [
    "From the above, we see that parameters (1,0,2) and (3,0,1) and significant p-values. We will look at the next 5 lowest AIC values to see if any others are significant so we can compare their RMSEs."
   ]
  },
  {
   "cell_type": "code",
   "execution_count": null,
   "metadata": {},
   "outputs": [],
   "source": [
    "for pdq in df_AIC['pdq'][20:25]:\n",
    "    mod = ARIMA(y_train[:-1], order=pdq)\n",
    "    mod_fit = mod.fit()\n",
    "    print(mod_fit.summary())"
   ]
  },
  {
   "cell_type": "markdown",
   "metadata": {},
   "source": [
    "From the above, we see that parameters (2,0,1) and (1,0,1) are also significant. We will compare RMSE values for these parameters as well as (1,0,2) and (3,0,1)."
   ]
  },
  {
   "cell_type": "markdown",
   "metadata": {},
   "source": [
    "**Determine Best ARIMA Model**"
   ]
  },
  {
   "cell_type": "code",
   "execution_count": null,
   "metadata": {},
   "outputs": [],
   "source": [
    "# Create RMSE function\n",
    "def RMSE(pred):\n",
    "    return np.sqrt(((pred-y_test)**2).mean())\n",
    "\n",
    "# For loop to apply RMSE function to significant parameters\n",
    "for pdq in [(2,0,1),(1,0,1),(1,0,2),(3,0,1)]:\n",
    "    mod = ARIMA(y_train[:-1], order=pdq)\n",
    "    mod_fit = mod.fit()\n",
    "    mod_pred = mod_fit.predict(start='2019-06-06', end='2020-03-13', dynamic=False)\n",
    "    print(pdq,': RMSE: ', RMSE(mod_pred), 'AIC: ', mod_fit.aic)"
   ]
  },
  {
   "cell_type": "markdown",
   "metadata": {},
   "source": [
    "Through a combination of RMSE and AIC, an ARIMA model with parameters (1,0,1) is our best baseline model. We will now compare this baseline model to other types of time series models."
   ]
  },
  {
   "cell_type": "code",
   "execution_count": null,
   "metadata": {},
   "outputs": [],
   "source": [
    "# Define baseline model for future comparison\n",
    "base = ARIMA(y_train[:-1], order=(1,0,1))\n",
    "base_fit = base.fit()\n",
    "base_pred = base_fit.predict(start='2019-06-06', end='2020-03-13', dynamic=False)\n",
    "base_RMSE = RMSE(base_pred)\n",
    "base_AIC = base_fit.aic\n",
    "\n",
    "print('Baseline model RMSE: ', base_RMSE)\n",
    "print('Baseline model RMSE adj for range: ',\n",
    "      base_RMSE/(df_bkln['Accidents_Bkln'].max()-df_bkln['Accidents_Bkln'].min()))\n",
    "print('Baseline model AIC: ', base_AIC)\n",
    "\n",
    "\n"
   ]
  },
  {
   "cell_type": "markdown",
   "metadata": {},
   "source": [
    "## Model #2: Introducing Exogenous Variables: ARIMAX Model"
   ]
  },
  {
   "cell_type": "markdown",
   "metadata": {},
   "source": [
    "Now that we have our baseline ARIMA model, we will try incorporating exogenous variables with an ARIMAX model."
   ]
  },
  {
   "cell_type": "markdown",
   "metadata": {},
   "source": [
    "**Clean Data for ARIMAX Model**"
   ]
  },
  {
   "cell_type": "code",
   "execution_count": null,
   "metadata": {},
   "outputs": [],
   "source": [
    "# Turn exogenous variables into integers so they work in the model\n",
    "# Season\n",
    "df_bkln['Season'] = np.where(df_bkln['Season']=='Fall', 1, df_bkln['Season'])\n",
    "df_bkln['Season'] = np.where(df_bkln['Season']=='Winter', 2, df_bkln['Season'])\n",
    "df_bkln['Season'] = np.where(df_bkln['Season']=='Spring', 3, df_bkln['Season'])\n",
    "df_bkln['Season'] = np.where(df_bkln['Season']=='Summer', 4, df_bkln['Season'])\n",
    "\n",
    "# Day of Week\n",
    "df_bkln['Day of Week'] = np.where(df_bkln['Day of Week']=='Sunday', 1, df_bkln['Day of Week'])\n",
    "df_bkln['Day of Week'] = np.where(df_bkln['Day of Week']=='Monday', 2, df_bkln['Day of Week'])\n",
    "df_bkln['Day of Week'] = np.where(df_bkln['Day of Week']=='Tuesday', 3, df_bkln['Day of Week'])\n",
    "df_bkln['Day of Week'] = np.where(df_bkln['Day of Week']=='Wednesday', 4, df_bkln['Day of Week'])\n",
    "df_bkln['Day of Week'] = np.where(df_bkln['Day of Week']=='Thursday', 5, df_bkln['Day of Week'])\n",
    "df_bkln['Day of Week'] = np.where(df_bkln['Day of Week']=='Friday', 6, df_bkln['Day of Week'])\n",
    "df_bkln['Day of Week'] = np.where(df_bkln['Day of Week']=='Saturday', 7, df_bkln['Day of Week'])\n",
    "\n",
    "# Weekend (these turned into strings when the data was imported from the csv)\n",
    "df_bkln['Weekend'] = np.where(df_bkln['Weekend']=='0', 0, df_bkln['Weekend'])\n",
    "df_bkln['Weekend'] = np.where(df_bkln['Weekend']=='1', 1, df_bkln['Weekend'])\n",
    "\n",
    "# Holiday (these turned into strings when the data was imported from the csv)\n",
    "df_bkln['Holiday'] = np.where(df_bkln['Holiday']=='0', 0, df_bkln['Holiday'])\n",
    "df_bkln['Holiday'] = np.where(df_bkln['Holiday']=='1', 1, df_bkln['Holiday'])\n",
    "\n"
   ]
  },
  {
   "cell_type": "markdown",
   "metadata": {},
   "source": [
    "**Redefine Train-Test Split with Cleaned Data**"
   ]
  },
  {
   "cell_type": "code",
   "execution_count": null,
   "metadata": {},
   "outputs": [],
   "source": [
    "# Train-test split\n",
    "# Based on the above, 2019-06-06 will be the split point for our train and test sets\n",
    "\n",
    "X = df_bkln.index\n",
    "y = df_bkln['Accidents_Bkln']\n",
    "\n",
    "train = df_bkln.loc[:'2019-06-06']\n",
    "test = df_bkln.loc['2019-06-06':]\n",
    "\n",
    "X_train, X_test = train.index , test.index\n",
    "y_train, y_test = train['Accidents_Bkln'] , test['Accidents_Bkln']"
   ]
  },
  {
   "cell_type": "code",
   "execution_count": null,
   "metadata": {},
   "outputs": [],
   "source": [
    "# Make list of lists of exogenous data to be used in the model\n",
    "list_of_lists = []\n",
    "for column in list(train.iloc[:,1:].columns):\n",
    "    list_of_lists.append(list(train[column]))\n",
    "    \n",
    "exog=np.column_stack(list_of_lists)\n"
   ]
  },
  {
   "cell_type": "markdown",
   "metadata": {},
   "source": [
    "**Grid Search**"
   ]
  },
  {
   "cell_type": "code",
   "execution_count": null,
   "metadata": {},
   "outputs": [],
   "source": [
    "# Determine best parameters for ARIMAX model\n",
    "\n",
    "# Define the p, d, and q parameters to take any value between 0 and 4\n",
    "p = d = q = range(0,4)\n",
    "\n",
    "# Generate all different combinations of p, d, and q triplets\n",
    "pdq = list(itertools.product(p, d, q))\n",
    "\n",
    "# Run a grid with pdq parameters calculated to see corresponding AIC scores\n",
    "ans_ARIMAX2 = []\n",
    "for comb in pdq:\n",
    "    try:\n",
    "        mod = sm.tsa.ARIMA(endog=y_train,\n",
    "                           exog=exog,\n",
    "                           order=comb)\n",
    "        output = mod.fit()\n",
    "        ans_ARIMAX2.append([comb, output.aic])\n",
    "        print('ARIMAX {} : AIC Calculated ={}'.format(comb,output.aic))\n",
    "    except:\n",
    "        continue"
   ]
  },
  {
   "cell_type": "code",
   "execution_count": null,
   "metadata": {},
   "outputs": [],
   "source": [
    "# Find parameters with minimal AIC value\n",
    "df_AIC = pd.DataFrame(ans_ARIMAX2, columns=['pdq', 'aic'])\n",
    "df_AIC.sort_values(by='aic', ascending=True, inplace=True)\n",
    "df_AIC[:10]"
   ]
  },
  {
   "cell_type": "markdown",
   "metadata": {},
   "source": [
    "**Determining Best Parameters**"
   ]
  },
  {
   "cell_type": "markdown",
   "metadata": {},
   "source": [
    "Observe lowest 10 AIC score parameter values to determine best model. Make sure p values are significant, and observe RMSEs to determind best overall model."
   ]
  },
  {
   "cell_type": "code",
   "execution_count": null,
   "metadata": {},
   "outputs": [],
   "source": [
    "for pdq in df_AIC['pdq'][:10]:\n",
    "    mod = sm.tsa.ARIMA(endog=y_train,\n",
    "                       exog=exog,\n",
    "                       order=pdq)\n",
    "    mod_fit = mod.fit()\n",
    "    print(mod_fit.summary())\n",
    "    "
   ]
  },
  {
   "cell_type": "markdown",
   "metadata": {},
   "source": [
    "We don't see any significant p values above, so will look at the next 10 lowest AIC scores."
   ]
  },
  {
   "cell_type": "code",
   "execution_count": null,
   "metadata": {},
   "outputs": [],
   "source": [
    "for pdq in df_AIC['pdq'][10:20]:\n",
    "    mod = sm.tsa.ARIMA(endog=y_train,\n",
    "                       exog=exog,\n",
    "                       order=pdq)\n",
    "    mod_fit = mod.fit()\n",
    "    print(mod_fit.summary())\n",
    "    "
   ]
  },
  {
   "cell_type": "markdown",
   "metadata": {},
   "source": [
    "From the above, we see that the following parameters have significant p values:\n",
    "\n",
    "(1,1,3)\n",
    "\n",
    "(1,1,2)\n",
    "\n",
    "(2,1,1)\n",
    "\n",
    "(1,1,1)\n",
    "\n",
    "We will observe RMSE and AIC values for these to determine our best working model."
   ]
  },
  {
   "cell_type": "code",
   "execution_count": null,
   "metadata": {},
   "outputs": [],
   "source": [
    "# For loop to apply RMSE function to significant parameters\n",
    "for (pdq) in [(1,1,3),(1,1,2),(2,1,1),(1,1,1)]:\n",
    "    mod = sm.tsa.ARIMA(endog=y_train,\n",
    "                           exog=exog,\n",
    "                           order=pdq)\n",
    "    mod_fit = mod.fit()\n",
    "    mod_pred = mod_fit.predict(start='2019-06-06', end='2020-03-13', exog = test.iloc[:,1:], dynamic=False)\n",
    "    mod_RMSE = RMSE(mod_pred)\n",
    "    mod_AIC = mod_fit.aic\n",
    "    print(pdq,' RMSE: ', mod_RMSE)\n",
    "    print(pdq,' AIC: ', mod_AIC)  \n",
    "    "
   ]
  },
  {
   "cell_type": "markdown",
   "metadata": {},
   "source": [
    "All of the above models have very similar RMSEs. We will therefore choose our best model based on AIC, which puts parameters (1,1,3) slightly ahead of the others. We will define this as our ARIMAX model and compare it to our baseline ARIMA model."
   ]
  },
  {
   "cell_type": "code",
   "execution_count": null,
   "metadata": {},
   "outputs": [],
   "source": [
    "# Define ARIMAX model\n",
    "ARIMAX = sm.tsa.ARIMA(endog=y_train, exog=exog, order=(1,1,3))\n",
    "ARIMAX_fit = ARIMAX.fit()\n",
    "ARIMAX_pred = ARIMAX_fit.predict(start='2019-06-06', end='2020-03-13', exog = test.iloc[:,1:], dynamic=False)\n",
    "ARIMAX_RMSE = RMSE(ARIMAX_pred)\n",
    "ARIMAX_AIC = ARIMAX_fit.aic\n",
    "\n",
    "# Compare ARIMA and ARIMAX model RMSEs and AICs\n",
    "\n",
    "print('ARIMA model RMSE: ', base_RMSE)\n",
    "print('ARIMA model AIC: ', base_AIC)\n",
    "\n",
    "print('ARIMAX model RMSE: ', ARIMAX_RMSE)\n",
    "print('ARIMAX model AIC: ', ARIMAX_AIC)\n",
    "\n"
   ]
  },
  {
   "cell_type": "markdown",
   "metadata": {},
   "source": [
    "We see from the above that though our baseline model has a worse AIC score, it performs significantly better with RMSE. Since RMSE is what tells us more clearly how far off our predictions are, we will consider this the better model."
   ]
  },
  {
   "cell_type": "markdown",
   "metadata": {},
   "source": [
    "## Model #3: Introducing Seasonality: SARIMA Model"
   ]
  },
  {
   "cell_type": "markdown",
   "metadata": {},
   "source": [
    "Or data is seasonal, so we would expect a SARIMA model to produce better results than our baseline ARIMA one."
   ]
  },
  {
   "cell_type": "markdown",
   "metadata": {},
   "source": [
    "**Resample Weekly Data**"
   ]
  },
  {
   "cell_type": "markdown",
   "metadata": {},
   "source": [
    "Since data is seasonal by year, our period value would ordinarily be 365 observations. This is too large for a SARIMA model, so will create a df with weekly data and instead use a period value of 52."
   ]
  },
  {
   "cell_type": "code",
   "execution_count": null,
   "metadata": {},
   "outputs": [],
   "source": [
    "# Create df of weekly data\n",
    "df_bkln_wk = df_bkln.resample('W')\n",
    "df_bkln_wk_mean = df_bkln_wk.mean()\n"
   ]
  },
  {
   "cell_type": "code",
   "execution_count": null,
   "metadata": {},
   "outputs": [],
   "source": [
    "# When we introduce exogenous data, the weekend column won't be valuable--remove it\n",
    "df_bkln_wk_mean.drop(columns=['Weekend'], inplace=True)\n",
    "\n",
    "# Change holiday column to be a 1 if there is any holiday that week,\n",
    "# ie if the value is greater than 0\n",
    "df_bkln_wk_mean['Holiday'] = np.where(df_bkln_wk_mean['Holiday']>0, 1, 0)\n",
    "\n",
    "# Add in Season\n",
    "df_bkln_wk_mean['Season'] = 0\n",
    "\n",
    "def season(month,season):\n",
    "    df_bkln_wk_mean['Season'] = np.where((df_bkln_wk_mean.index.month==month),\n",
    "                                         season,df_bkln_wk_mean['Season'])\n",
    "\n",
    "for month in range (1,4):\n",
    "    season(month,2)\n",
    "    \n",
    "for month in range (4,7):\n",
    "    season(month,3)\n",
    "    \n",
    "for month in range (7,10):\n",
    "    season(month,4)\n",
    "\n",
    "for month in range (10,13):\n",
    "    season(month,1)\n",
    "\n",
    "# Holiday\n",
    "df_bkln_wk_mean['Holiday'] = np.where(df_bkln_wk_mean['Holiday']=='0',\n",
    "                                      0, df_bkln_wk_mean['Holiday'])\n",
    "df_bkln_wk_mean['Holiday'] = np.where(df_bkln_wk_mean['Holiday']=='1',\n",
    "                                      1, df_bkln_wk_mean['Holiday'])\n",
    "\n",
    "# Observe new df head\n",
    "df_bkln_wk_mean.head()"
   ]
  },
  {
   "cell_type": "code",
   "execution_count": null,
   "metadata": {
    "scrolled": true
   },
   "outputs": [],
   "source": [
    "# Plot weekly data compared to daily\n",
    "plt.plot(df_bkln['Accidents_Bkln'],color='mediumseagreen', label='Original')\n",
    "plt.plot(df_bkln_wk_mean['Accidents_Bkln'], color='mediumblue', label='Weekly Mean')\n",
    "plt.legend(loc='best')\n",
    "plt.title('Weekly Mean, Brooklyn')\n",
    "plt.xlabel('Year')\n",
    "plt.ylabel('Accidents')\n",
    "plt.show(block=False)\n",
    "\n",
    "# Dickey-Fuller test\n",
    "test = adfuller(df_bkln_wk_mean['Accidents_Bkln'][:-1])\n",
    "dfoutput = pd.Series(test[0:4], index=['Test Statistic','p-value','#Lags Used','Number of Observations Used'])\n",
    "dfoutput"
   ]
  },
  {
   "cell_type": "markdown",
   "metadata": {},
   "source": [
    "Based on the above Dickey-Fuller p-value, this data is not stationary. We will difference this data to attempt stationarity."
   ]
  },
  {
   "cell_type": "markdown",
   "metadata": {},
   "source": [
    "**Differencing**"
   ]
  },
  {
   "cell_type": "code",
   "execution_count": null,
   "metadata": {},
   "outputs": [],
   "source": [
    "# Difference data\n",
    "diff = df_bkln_wk_mean['Accidents_Bkln'].diff()\n",
    "\n",
    "# Plot differenced data\n",
    "plt.plot(diff, color='palevioletred', label='Differenced Rolling Weekly Mean')\n",
    "plt.title('Differenced Weekly Mean, Brooklyn')\n",
    "plt.xlabel('Year')\n",
    "plt.ylabel('Accidents')\n",
    "plt.show(block=False)\n",
    "\n",
    "# Dickey-Fuller test\n",
    "test = adfuller(diff[1:-1])\n",
    "dfoutput = pd.Series(test[0:4], index=['Test Statistic','p-value','#Lags Used','Number of Observations Used'])\n",
    "dfoutput"
   ]
  },
  {
   "cell_type": "markdown",
   "metadata": {},
   "source": [
    "Differencing once achieved stationarity, so we would expect our SARIMA model to have a d value of at least 1."
   ]
  },
  {
   "cell_type": "markdown",
   "metadata": {},
   "source": [
    "**ACF, PACF for Weekly Data**"
   ]
  },
  {
   "cell_type": "code",
   "execution_count": null,
   "metadata": {},
   "outputs": [],
   "source": [
    "# ACF for weekly data\n",
    "plot_acf(df_bkln_wk_mean['Accidents_Bkln'], alpha=.05);\n",
    "\n",
    "# PACF for weekly data\n",
    "plot_pacf(df_bkln_wk_mean['Accidents_Bkln'], alpha=.05, lags=20);"
   ]
  },
  {
   "cell_type": "markdown",
   "metadata": {},
   "source": [
    "**Redo Train-Test Split for Weekly Data**"
   ]
  },
  {
   "cell_type": "code",
   "execution_count": null,
   "metadata": {},
   "outputs": [],
   "source": [
    "# Determine split point for 90%/10% train-test split\n",
    "split_point = int(len(df_bkln_wk_mean) * 0.9)\n",
    "df_bkln_wk_mean.iloc[split_point]"
   ]
  },
  {
   "cell_type": "code",
   "execution_count": null,
   "metadata": {},
   "outputs": [],
   "source": [
    "# Train-test split\n",
    "# Based on the above, 2019-06-06 will be the split point for our train and test sets\n",
    "\n",
    "X = df_bkln_wk_mean.index\n",
    "y = df_bkln_wk_mean['Accidents_Bkln']\n",
    "\n",
    "train = df_bkln_wk_mean.loc[:'2019-06-06']\n",
    "test = df_bkln_wk_mean.loc['2019-06-06':]\n",
    "\n",
    "X_train, X_test = train.index , test.index\n",
    "y_train, y_test = train['Accidents_Bkln'] , test['Accidents_Bkln']"
   ]
  },
  {
   "cell_type": "markdown",
   "metadata": {},
   "source": [
    "**Grid Search for SARIMA Model**"
   ]
  },
  {
   "cell_type": "code",
   "execution_count": null,
   "metadata": {},
   "outputs": [],
   "source": [
    "# Determine best parameters for SARIMA model\n",
    "\n",
    "# Define the p, d, and q parameters to take any value between 0 and 2\n",
    "# Using smaller range due to many combinations\n",
    "p = d = q = range(0,2)\n",
    "\n",
    "# Generate all different combinations of p, d, and q triplets\n",
    "pdq = list(itertools.product(p,d,q))\n",
    "\n",
    "# Generate all different combinations of seasonal p, d, q triplets\n",
    "# Choose s value of 52 because data is now weekly and a cycle is one year\n",
    "\n",
    "pdqs = [(x[0],x[1],x[2], 52) for x in pdq]\n",
    "\n",
    "# Run a grid search with pdq parameters calculated to see corresponding AIC scores\n",
    "ans_SARIMA = []\n",
    "for comb in pdq:\n",
    "    for combs in tqdm_notebook(pdqs):\n",
    "        try:\n",
    "            mod = sm.tsa.statespace.SARIMAX(y_train,\n",
    "                                            order=comb,\n",
    "                                            seasonal_order=combs,\n",
    "                                            enforce_stationarity=False,\n",
    "                                            enforce_invertibility=False)\n",
    "\n",
    "            output = mod.fit()\n",
    "            ans_SARIMA.append([comb, combs, output.aic])\n",
    "            print('ARIMA {} x {}52 : AIC Calculated ={}'.format(comb, combs, output.aic))\n",
    "        except:\n",
    "            continue"
   ]
  },
  {
   "cell_type": "code",
   "execution_count": null,
   "metadata": {},
   "outputs": [],
   "source": [
    "# Find parameters with minimal AIC value\n",
    "SARIMA_AIC = pd.DataFrame(ans_SARIMA, columns=['pdq', 'pdqs', 'aic'])\n",
    "SARIMA_AIC.sort_values(by='aic', ascending=True, inplace=True)\n",
    "SARIMA_AIC[:10]"
   ]
  },
  {
   "cell_type": "markdown",
   "metadata": {},
   "source": [
    "**Narrowing Down Parameter Values**"
   ]
  },
  {
   "cell_type": "markdown",
   "metadata": {},
   "source": [
    "Observe lowest 10 AIC score parameter values to determine best model. Make sure p values are significant, and observe RMSEs to determind best overall model."
   ]
  },
  {
   "cell_type": "code",
   "execution_count": null,
   "metadata": {},
   "outputs": [],
   "source": [
    "for index,row in SARIMA_AIC[:10].iterrows():\n",
    "    mod = sm.tsa.statespace.SARIMAX(y_train,\n",
    "                                    order=SARIMA_AIC['pdq'][index],\n",
    "                                    seasonal_order=SARIMA_AIC['pdqs'][index],\n",
    "                                    enforce_stationarity=False,\n",
    "                                    enforce_invertibility=False)\n",
    "\n",
    "    mod_fit = mod.fit()\n",
    "    print(mod_fit.summary())\n"
   ]
  },
  {
   "cell_type": "markdown",
   "metadata": {},
   "source": [
    "Based on the above, we see that the following parameters yield significant p-values:\n",
    "\n",
    "(0,1,1)x(0,1,1,52)\n",
    "\n",
    "(1,0,1)x(0,1,1,52)\n",
    "\n",
    "(0,1,1)x(1,1,0,52)\n",
    "\n",
    "(1,0,1)x(1,1,0,52)\n",
    "\n",
    "We wil observe RMSE and AIC values for these parameters to determine our best working model."
   ]
  },
  {
   "cell_type": "code",
   "execution_count": null,
   "metadata": {},
   "outputs": [],
   "source": [
    "# For loop to apply RMSE function to significant parameters\n",
    "for (pdq,pdqs) in [((0,1,1),(0,1,1,52)),((1,0,1),(0,1,1,52)),((0,1,1),(1,1,0,52)),\n",
    "                 ((1,0,1),(1,1,0,52))]:\n",
    "    mod = sm.tsa.statespace.SARIMAX(y_train,\n",
    "                                    order=pdq,\n",
    "                                    seasonal_order=pdqs,\n",
    "                                    enforce_stationarity=False,\n",
    "                                    enforce_invertibility=False)\n",
    "    mod_fit = mod.fit()\n",
    "    mod_pred = mod_fit.predict(start='2019-06-06', end='2020-03-13',dynamic=False)\n",
    "    print(pdq, 'x', pdqs,': RMSE: ', RMSE(mod_pred), 'AIC: ', mod_fit.aic)\n",
    "    "
   ]
  },
  {
   "cell_type": "markdown",
   "metadata": {},
   "source": [
    "Based on its best RMSE value and only slightly worse AIC value, we see that the thrid option gives us our best SARIMA model. We will define this as our SARIMA model and compare it to our baseline ARIMA model.\n",
    "\n",
    "In order to compare RMSEs between daily and weekly data, we will divide RMSEs by the range of the number of accidents in each dataset. A smaller RMSE-to-range ratio will tell us which is our better RMSE. These will be labeled \"Adjusted RMSE\"."
   ]
  },
  {
   "cell_type": "code",
   "execution_count": null,
   "metadata": {},
   "outputs": [],
   "source": [
    "SARIMA = sm.tsa.statespace.SARIMAX(y_train,\n",
    "                                   order=(0,1,1),\n",
    "                                   seasonal_order=(1,1,0,52),\n",
    "                                   enforce_stationarity=False,\n",
    "                                   enforce_invertibility=False)\n",
    "SARIMA_fit = SARIMA.fit()\n",
    "SARIMA_pred = SARIMA_fit.predict(start='2019-06-06', end='2020-03-13',dynamic=False)\n",
    "print('SARIMA RMSE: ', RMSE(SARIMA_pred))\n",
    "print('Adjusted SARIMA RMSE: ',\n",
    "      RMSE(SARIMA_pred)/(df_bkln_wk_mean['Accidents_Bkln'].max()-df_bkln_wk_mean['Accidents_Bkln'].min()))\n",
    "print('SARIMA AIC: ', SARIMA_fit.aic)\n",
    "\n",
    "print('ARIMA RMSE: ', base_RMSE)\n",
    "print('Adjusted ARIMA RMSE: ',\n",
    "      base_RMSE/(df_bkln['Accidents_Bkln'].max()-df_bkln['Accidents_Bkln'].min()))\n",
    "print('ARIMA AIC: ', base_AIC)"
   ]
  },
  {
   "cell_type": "markdown",
   "metadata": {},
   "source": [
    "It is hard to determine which of the above models is better. Before narrowing down between these, let's take a look at a SARIMAX model to add into the mix."
   ]
  },
  {
   "cell_type": "markdown",
   "metadata": {},
   "source": [
    "## Model #4: Incorporating Both Exogenous and Seasonal Variables: SARIMAX Model"
   ]
  },
  {
   "cell_type": "markdown",
   "metadata": {},
   "source": [
    "Attempting a SARIMAX model incorporating both holiday and season variables as exogenous data did not yield any usable models. The p-value associated with \"season\" were consistently extremely high. Therefore re-ran only incorporating holiday as the exogenous variable. Other exogenous variables used in the earlier ARIMAX model are not replicable on a weekly basis."
   ]
  },
  {
   "cell_type": "markdown",
   "metadata": {},
   "source": [
    "**Grid Search**"
   ]
  },
  {
   "cell_type": "code",
   "execution_count": null,
   "metadata": {},
   "outputs": [],
   "source": [
    "# Determine best parameters for SARIMAX model\n",
    "# Define the p, d, and q parameters to take any value between 0 and 2\n",
    "p = d = q = range(0,2)\n",
    "\n",
    "# Generate all different combinations of p, d, and q triplets\n",
    "pdq = list(itertools.product(p,d,q))\n",
    "\n",
    "# Generate all different combinations of seasonal p, d, q triplets\n",
    "# Choose s value of 365 because data is daily and a cycle is one year\n",
    "\n",
    "pdqs = [(x[0],x[1],x[2], 52) for x in pdq]\n",
    "\n",
    "# Run a grid search with pdq parameters calculated to see corresponding AIC scores\n",
    "ans_SARIMAX = []\n",
    "for comb in pdq:\n",
    "    for combs in tqdm_notebook(pdqs):\n",
    "        try:\n",
    "            mod = sm.tsa.statespace.SARIMAX(y_train,\n",
    "                                            exog = train.iloc[:,1],\n",
    "                                            order=comb,\n",
    "                                            seasonal_order=combs,\n",
    "                                            enforce_stationarity=False,\n",
    "                                            enforce_invertibility=False)\n",
    "\n",
    "            output = mod.fit()\n",
    "            ans_SARIMAX.append([comb, combs, output.aic])\n",
    "            print('SARIMAX {} x {}52 : AIC Calculated ={}'.format(comb, combs, output.aic))\n",
    "        except:\n",
    "            continue\n",
    "            "
   ]
  },
  {
   "cell_type": "code",
   "execution_count": null,
   "metadata": {
    "scrolled": true
   },
   "outputs": [],
   "source": [
    "# Find parameters with minimal AIC value\n",
    "SARIMAX_AIC = pd.DataFrame(ans_SARIMAX, columns=['pdq', 'pdqs', 'aic'])\n",
    "SARIMAX_AIC.sort_values(by='aic', ascending=True, inplace=True)\n",
    "SARIMAX_AIC[:10]"
   ]
  },
  {
   "cell_type": "markdown",
   "metadata": {},
   "source": [
    "**Narrowing Down Model Parameters**"
   ]
  },
  {
   "cell_type": "markdown",
   "metadata": {},
   "source": [
    "Observe lowest 10 AIC score parameter values to determine best model. Make sure p values are significant, and observe RMSEs to determind best overall model."
   ]
  },
  {
   "cell_type": "code",
   "execution_count": null,
   "metadata": {},
   "outputs": [],
   "source": [
    "for index,row in SARIMAX_AIC[:10].iterrows():\n",
    "    mod = sm.tsa.statespace.SARIMAX(y_train,\n",
    "                                    exog = train.iloc[:,1],\n",
    "                                    order=SARIMAX_AIC['pdq'][index],\n",
    "                                    seasonal_order=SARIMAX_AIC['pdqs'][index],\n",
    "                                    enforce_stationarity=False,\n",
    "                                    enforce_invertibility=False)\n",
    "\n",
    "    \n",
    "    \n",
    "    mod_fit = mod.fit()\n",
    "    print(mod_fit.summary())\n"
   ]
  },
  {
   "cell_type": "markdown",
   "metadata": {},
   "source": [
    "Based on the above, we see that the following parameters have significant p values:\n",
    "\n",
    "(0,1,1)x(0,1,1,52)\n",
    "\n",
    "(1,0,1)x(0,1,1,52)\n",
    "\n",
    "(0,1,1)x(1,1,0,52)\n",
    "\n",
    "(1,0,1)x(1,1,0,52)\n"
   ]
  },
  {
   "cell_type": "markdown",
   "metadata": {},
   "source": [
    "We will observe these models' RMSE and AIC score to determine which is our best SARIMAX model."
   ]
  },
  {
   "cell_type": "markdown",
   "metadata": {},
   "source": [
    "**Determine Best SARIMAX Model**"
   ]
  },
  {
   "cell_type": "code",
   "execution_count": null,
   "metadata": {},
   "outputs": [],
   "source": [
    "mod = sm.tsa.statespace.SARIMAX(y_train,\n",
    "                                exog = train.iloc[:,1:],\n",
    "                                order=(0,1,1),\n",
    "                                seasonal_order=(0,1,1,52),\n",
    "                                enforce_stationarity=False,\n",
    "                                enforce_invertibility=False)\n",
    "mod_fit = mod.fit()\n",
    "mod_pred = mod_fit.predict(start='2019-06-06', end='2020-03-13', exog = test.iloc[:,1:],\n",
    "                           traindynamic=False)"
   ]
  },
  {
   "cell_type": "code",
   "execution_count": null,
   "metadata": {},
   "outputs": [],
   "source": [
    "# For loop to apply RMSE function to significant parameters\n",
    "for (pdq,pdqs) in [((0,1,1),(0,1,1,52)),((1,0,1),(0,1,1,52)),((0,1,1),(1,1,0,52)),\n",
    "                 ((1,0,1),(1,1,0,52))]:\n",
    "    mod = sm.tsa.statespace.SARIMAX(y_train,\n",
    "                                    exog = train.iloc[:,1],\n",
    "                                    order=pdq,\n",
    "                                    seasonal_order=pdqs,\n",
    "                                    enforce_stationarity=False,\n",
    "                                    enforce_invertibility=False)\n",
    "    mod_fit = mod.fit()\n",
    "    mod_pred = mod_fit.predict(start='2019-06-06', end='2020-03-13', exog = test.iloc[:,1],\n",
    "                               dynamic=False)\n",
    "    print(pdq, 'x', pdqs,': RMSE: ', RMSE(mod_pred), 'AIC: ', mod_fit.aic)\n",
    "    "
   ]
  },
  {
   "cell_type": "markdown",
   "metadata": {},
   "source": [
    "Based on the above, the third model is our best SARIMAX model. It has the best RMSE/AIC combination, prioritizing RMSE.\n",
    "\n",
    "Now we will define this as our SARIMAX model and compare to our SARIMA and ARIMA models."
   ]
  },
  {
   "cell_type": "code",
   "execution_count": null,
   "metadata": {},
   "outputs": [],
   "source": [
    "SARIMAX = sm.tsa.statespace.SARIMAX(y_train,\n",
    "                                    exog = train.iloc[:,1],\n",
    "                                    order=(0,1,1),\n",
    "                                    seasonal_order=(1,1,0,52),\n",
    "                                    enforce_stationarity=False,\n",
    "                                    enforce_invertibility=False)\n",
    "SARIMAX_fit = SARIMAX.fit()\n",
    "SARIMAX_pred = SARIMAX_fit.predict(start='2019-06-06', end='2020-03-13', exog = test.iloc[:,1],\n",
    "                                   dynamic=False)\n",
    "\n",
    "SARIMAX_RMSE = RMSE(SARIMAX_pred)\n",
    "SARIMAX_adj_RMSE = SARIMAX_RMSE/(df_bkln_wk_mean['Accidents_Bkln'].max()-df_bkln_wk_mean['Accidents_Bkln'].min())\n",
    "SARIMAX_AIC = SARIMAX_fit.aic\n",
    "\n",
    "\n",
    "print('ARIMA RMSE: ', base_RMSE)\n",
    "print('Adjusted ARIMA RMSE: ',\n",
    "      base_RMSE/(df_bkln['Accidents_Bkln'].max()-df_bkln['Accidents_Bkln'].min()))\n",
    "print('ARIMA AIC: ', base_AIC)\n",
    "\n",
    "print('SARIMA RMSE: ', RMSE(SARIMA_pred))\n",
    "print('Adjusted SARIMA RMSE: ',\n",
    "      RMSE(SARIMA_pred)/(df_bkln_wk_mean['Accidents_Bkln'].max()-df_bkln_wk_mean['Accidents_Bkln'].min()))\n",
    "print('SARIMA AIC: ', SARIMA_fit.aic)\n",
    "\n",
    "print('SARIMAX RMSE: ', SARIMAX_RMSE)\n",
    "print('Adjusted SARIMAX RMSE: ', SARIMAX_adj_RMSE)\n",
    "print('SARIMAX AIC: ', SARIMAX_AIC)"
   ]
  },
  {
   "cell_type": "markdown",
   "metadata": {},
   "source": [
    "We see from the above that our SARIMAX model is better than our SARIMA model, both in terms of RMSE and AIC. Between our ARIMA and SARIMAX models, our ARIMA model is more useful for the following reasons:\n",
    "\n",
    "- Although its RMSE is higher, its adjusted RMSE is lower, albeit very slightly.\n",
    "- Although its AIC score is significantly higher, we cannot compare AIC scores between these two different types of models. This metric is more useful when comparing parameter options within the same model type.\n",
    "- Based on how our model will be used, it is much more useful to know how many accidents are predicted per day rather than by week. This applies to individuals assessing their own risk as well as officials allocating resources on a daily basis rather than weekly basis. "
   ]
  },
  {
   "cell_type": "markdown",
   "metadata": {},
   "source": [
    "**Of our models until this point, the baseline ARIMA model is our best model**"
   ]
  },
  {
   "cell_type": "markdown",
   "metadata": {},
   "source": [
    "# Final Model Analysis"
   ]
  },
  {
   "cell_type": "markdown",
   "metadata": {},
   "source": [
    "Now that we have determined our best model based on RMSE and AIC, let's dig into it a bit more deeply."
   ]
  },
  {
   "cell_type": "markdown",
   "metadata": {},
   "source": [
    "**Model Metrics**"
   ]
  },
  {
   "cell_type": "code",
   "execution_count": null,
   "metadata": {},
   "outputs": [],
   "source": [
    "# Visualize residuals/error\n",
    "residuals = pd.DataFrame(base_fit.resid)\n",
    "residuals.plot(color='royalblue')\n",
    "plt.show();"
   ]
  },
  {
   "cell_type": "code",
   "execution_count": null,
   "metadata": {},
   "outputs": [],
   "source": [
    "# Check for linearity\n",
    "residuals = pd.DataFrame(base_fit.resid)\n",
    "residuals.plot(kind='kde', color='royalblue')\n",
    "plt.show()\n"
   ]
  },
  {
   "cell_type": "markdown",
   "metadata": {},
   "source": [
    "Based on the first graph above, we see residuals centered and concentrated at 0, though with more variance than is ideal. With a mean at approximately 0, the second graph shows that our model is mostly linear."
   ]
  },
  {
   "cell_type": "markdown",
   "metadata": {},
   "source": [
    "**Test Predictions**"
   ]
  },
  {
   "cell_type": "markdown",
   "metadata": {},
   "source": [
    "We know that this ARIMA model yielded our best test predictions from its RMSE and AIC score, but let's visualize our predictions compared to the true data."
   ]
  },
  {
   "cell_type": "code",
   "execution_count": null,
   "metadata": {},
   "outputs": [],
   "source": [
    "# Plot real vs predicted values\n",
    "fix,ax = plt.subplots(figsize=(15, 8))\n",
    "\n",
    "# Plot observed values\n",
    "ax = df_bkln['Accidents_Bkln'].plot(label='Observed', color='sandybrown')\n",
    "\n",
    "# Plot predicted train values\n",
    "base_pred_train = base_fit.predict(start='2012-07-01', end='2020-03-13', dynamic=False)\n",
    "base_pred_train.plot(ax=ax, label='Train Predictions', alpha=0.9, color='purple')\n",
    "\n",
    "# Plot predicted values\n",
    "base_pred.plot(ax=ax, label='Test Predictions', alpha=0.9, color='mediumseagreen')\n",
    "\n",
    "# Set axes labels and title\n",
    "ax.set_xlabel('Year', size=12)\n",
    "ax.set_ylabel('Car Accidents',size=12)\n",
    "ax.set_title('Real vs Predicted Brooklyn Car Accidents,', size=15)\n",
    "\n",
    "plt.legend()\n",
    "plt.show()"
   ]
  },
  {
   "cell_type": "markdown",
   "metadata": {},
   "source": [
    "# Forecasting"
   ]
  },
  {
   "cell_type": "markdown",
   "metadata": {},
   "source": [
    "Now that we see how our data performed on our train and test data, it is time to apply it to the future."
   ]
  },
  {
   "cell_type": "markdown",
   "metadata": {},
   "source": [
    "## July 1, 2021 through the end of 2021"
   ]
  },
  {
   "cell_type": "markdown",
   "metadata": {},
   "source": [
    "As discussed in the EDA notebook, we will use our current model to predict accident numbers starting on July 1, 2021, assuming a 25% decrease from our model predictions."
   ]
  },
  {
   "cell_type": "code",
   "execution_count": null,
   "metadata": {},
   "outputs": [],
   "source": [
    "# Create df including all Brooklyn data, not only pre-Covid like we've been using for modeling\n",
    "df_bkln_total = df_TS.drop(columns = ['Injuries', 'Deaths','Accidents_Bx', 'Accidents_Man', 'Accidents_Qns', 'Accidents_SI',\n",
    "                               'Accidents_Total'])"
   ]
  },
  {
   "cell_type": "code",
   "execution_count": null,
   "metadata": {},
   "outputs": [],
   "source": [
    "# Generate forcast from 3/14/20-12/31/2022\n",
    "forecast = base_fit.forecast(steps=658)\n",
    "pred_values = pd.DataFrame(forecast[0])\n",
    "pred_values['Date'] = pd.date_range(start='2020-03-14', periods=658)\n",
    "pred_values.set_index(pred_values['Date'],inplace=True)\n",
    "pred_values = pred_values[0]\n",
    "pred_values.drop(columns=['Date',0],inplace=True)\n",
    "pred_values\n",
    "\n",
    "# Plot forecast\n",
    "fix,ax = plt.subplots(figsize=(15, 8))\n",
    "ax = df_bkln_total['Accidents_Bkln']['2019-01-01':].plot(label='Observed', color='sandybrown')\n",
    "pred_values.plot(ax=ax, label='Forecast',color='mediumseagreen')\n",
    "\n",
    "ax.set_xlabel('Date')\n",
    "ax.set_ylabel('Car Accidents')\n",
    "\n",
    "plt.legend()\n",
    "plt.show()"
   ]
  },
  {
   "cell_type": "markdown",
   "metadata": {},
   "source": [
    "The above shows us what our predictions would have been through the end of 2021, if it hadn't been for the COVID-19 pandemic. Now let's look at what our actual predictions are, given what we do know about te pandemic and related predictions discussed earlier."
   ]
  },
  {
   "cell_type": "code",
   "execution_count": null,
   "metadata": {},
   "outputs": [],
   "source": [
    "# Create df of adjusted COVID predictions\n",
    "# Starting 7/1/21, 75% of original predictions\n",
    "TS_pred_cov = pred_values['2021-07-01':] * 0.75\n",
    "\n",
    "# Create linear data connecting last known data point and predicted data linearly\n",
    "# Create df for connection data\n",
    "connection['Date'] = pd.DataFrame(pd.date_range(start='2021-01-30', end='2021-06-30'))\n",
    "\n",
    "# Find how much the accident count will rise each day\n",
    "# There are 152 days between 1/29/21 and 7/1/21\n",
    "daily_interval=(TS_pred_cov['2021-07-01'] - df_bkln_total['Accidents_Bkln']['2021-01-29'])/152\n",
    "\n",
    "# Add daily interval to each date in connection df\n",
    "connection_forecasts = []\n",
    "i = df_bkln_total['Accidents_Bkln']['2021-01-29']\n",
    "for num in range(0,152):\n",
    "    i+=daily_interval\n",
    "    connection_forecasts.append(i)\n",
    "\n",
    "# Add list of forecasts to connection df\n",
    "connection['Forecast'] = connection_forecasts\n",
    "\n",
    "# Make date index of connection df\n",
    "connection.set_index('Date', inplace=True)\n",
    "\n",
    "#Observe connection df\n",
    "connection"
   ]
  },
  {
   "cell_type": "code",
   "execution_count": null,
   "metadata": {},
   "outputs": [],
   "source": [
    "fix,ax = plt.subplots(figsize=(15, 8))\n",
    "\n",
    "# Plot known data\n",
    "ax = df_bkln_total['Accidents_Bkln']['2019-01-01':].plot(label='Observed', color='sandybrown')\n",
    "\n",
    "#Plot predicted data based on model, starting 7/1/20, 75% of model prediction\n",
    "TS_pred_cov.plot(ax=ax, label='Forecast',color='mediumseagreen')\n",
    "\n",
    "# Plot linear connection\n",
    "connection.plot(ax=ax, color='mediumseagreen')\n",
    "\n",
    "ax.set_xlabel('Date')\n",
    "ax.set_ylabel('Car Accidents')\n",
    "\n",
    "plt.legend()\n",
    "plt.show()"
   ]
  }
 ],
 "metadata": {
  "kernelspec": {
   "display_name": "learn-env",
   "language": "python",
   "name": "learn-env"
  },
  "language_info": {
   "codemirror_mode": {
    "name": "ipython",
    "version": 3
   },
   "file_extension": ".py",
   "mimetype": "text/x-python",
   "name": "python",
   "nbconvert_exporter": "python",
   "pygments_lexer": "ipython3",
   "version": "3.8.3"
  },
  "toc": {
   "base_numbering": 1,
   "nav_menu": {},
   "number_sections": true,
   "sideBar": true,
   "skip_h1_title": false,
   "title_cell": "Table of Contents",
   "title_sidebar": "Contents",
   "toc_cell": false,
   "toc_position": {},
   "toc_section_display": true,
   "toc_window_display": false
  }
 },
 "nbformat": 4,
 "nbformat_minor": 4
}
